{
 "cells": [
  {
   "cell_type": "markdown",
   "metadata": {},
   "source": [
    "### 1.参数获取"
   ]
  },
  {
   "cell_type": "code",
   "execution_count": 1,
   "metadata": {},
   "outputs": [
    {
     "name": "stdout",
     "output_type": "stream",
     "text": [
      "config get success !\n",
      "dict_keys(['url', 'api_key', 'currency', 'code', 'start', 'end'])\n",
      "dict_keys(['lower_bound', 'upper_bound', 'num_grids', 'leverage', 'investment', 'mode', '_comment', 'fee'])\n",
      "5000\n"
     ]
    }
   ],
   "source": [
    "import json\n",
    "import os\n",
    "\n",
    "# 打开json文件 获取参数\n",
    "with open('config.json', 'r') as f:\n",
    "    config = json.load(f)\n",
    "    print(\"config get success !\")\n",
    "\n",
    "# 读取参数\n",
    "market_config = config['market_config']\n",
    "grid_config = config['grid_config']\n",
    "\n",
    "# 打印参数\n",
    "print(market_config.keys())\n",
    "print(grid_config.keys())\n",
    "market_config[\"api_key\"] = os.getenv(\"LIVECOINWATCH_API_KEY\")\n",
    "\n",
    "print(grid_config[\"investment\"])\n"
   ]
  },
  {
   "cell_type": "markdown",
   "metadata": {},
   "source": [
    "### 2.数据获取"
   ]
  },
  {
   "cell_type": "code",
   "execution_count": 3,
   "metadata": {},
   "outputs": [
    {
     "name": "stdout",
     "output_type": "stream",
     "text": [
      "Prices: [59139.545703792886, 59701.79742106999, 60795.508674910496, 60505.67392716708, 61216.127592476456]\n",
      "Timestamps: [1724199000000, 1724251800000, 1724304600000, 1724357400000, 1724410200000]\n"
     ]
    }
   ],
   "source": [
    "from src.market_data import MarketData\n",
    "\n",
    "market_data = MarketData(market_config)\n",
    "prices, timestamps = market_data.fetch_real_data()\n",
    "\n",
    "print(\"Prices:\", prices[:5])\n",
    "print(\"Timestamps:\", timestamps[:5])"
   ]
  },
  {
   "cell_type": "markdown",
   "metadata": {},
   "source": [
    "### 3.网格策略"
   ]
  },
  {
   "cell_type": "code",
   "execution_count": null,
   "metadata": {},
   "outputs": [
    {
     "name": "stdout",
     "output_type": "stream",
     "text": [
      "每网格购买的股票量: 0.0026666666666666666\n",
      "网格价格: [50000.0, 51020.4081632653, 52040.816326530614, 53061.22448979592, 54081.63265306123, 55102.04081632653, 56122.448979591834, 57142.857142857145, 58163.26530612245, 59183.67346938775, 60204.08163265306, 61224.489795918365, 62244.897959183676, 63265.30612244898, 64285.71428571429, 65306.12244897959, 66326.5306122449, 67346.9387755102, 68367.3469387755, 69387.75510204081, 70408.16326530612, 71428.57142857142, 72448.97959183673, 73469.38775510204, 74489.79591836735, 75510.20408163266, 76530.61224489796, 77551.02040816327, 78571.42857142858, 79591.83673469388, 80612.24489795919, 81632.6530612245, 82653.0612244898, 83673.4693877551, 84693.87755102041, 85714.28571428571, 86734.69387755102, 87755.10204081633, 88775.51020408163, 89795.91836734694, 90816.32653061225, 91836.73469387754, 92857.14285714286, 93877.55102040817, 94897.95918367346, 95918.36734693879, 96938.77551020408, 97959.18367346938, 98979.5918367347, 100000.0]\n",
      "中位数价格: 75000.0\n",
      "网格持仓股票数量: [0.0026666666666666666, 0.0026666666666666666, 0.0026666666666666666, 0.0026666666666666666, 0.0026666666666666666, 0.0026666666666666666, 0.0026666666666666666, 0.0026666666666666666, 0.0026666666666666666, 0.0026666666666666666, 0.0026666666666666666, 0.0026666666666666666, 0.0026666666666666666, 0.0026666666666666666, 0.0026666666666666666, 0.0026666666666666666, 0.0026666666666666666, 0.0026666666666666666, 0.0026666666666666666, 0.0026666666666666666, 0.0026666666666666666, 0.0026666666666666666, 0.0026666666666666666, 0.0026666666666666666, 0.0026666666666666666, 0.0026666666666666666, 0.0026666666666666666, 0.0026666666666666666, 0.0026666666666666666, 0.0026666666666666666, 0.0026666666666666666, 0.0026666666666666666, 0.0026666666666666666, 0.0026666666666666666, 0.0026666666666666666, 0.0026666666666666666, 0.0026666666666666666, 0.0026666666666666666, 0.0026666666666666666, 0.0026666666666666666, 0.0026666666666666666, 0.0026666666666666666, 0.0026666666666666666, 0.0026666666666666666, 0.0026666666666666666, 0.0026666666666666666, 0.0026666666666666666, 0.0026666666666666666, 0.0026666666666666666, 0.0026666666666666666]\n",
      "当前股票数量: 0.10933333333333328\n",
      "平均持仓成本: 58367.99964520665\n",
      "爆仓线: 29183.999822603324\n",
      "Action: SELL, Grid Index: 9, Grid Price: 59183.67, Amount: 157.82, Current Price: 59701.80, Cash Balance: 5157.82\n",
      "Action: SELL, Grid Index: 10, Grid Price: 60204.08, Amount: 160.54, Current Price: 60795.51, Cash Balance: 5318.37\n",
      "Action: SELL, Grid Index: 11, Grid Price: 61224.49, Amount: 163.27, Current Price: 63708.00, Cash Balance: 5481.63\n",
      "Action: SELL, Grid Index: 12, Grid Price: 62244.90, Amount: 165.99, Current Price: 63708.00, Cash Balance: 5647.62\n",
      "Action: SELL, Grid Index: 13, Grid Price: 63265.31, Amount: 168.71, Current Price: 63708.00, Cash Balance: 5816.33\n",
      "Action: SELL, Grid Index: 14, Grid Price: 64285.71, Amount: 171.43, Current Price: 64496.18, Cash Balance: 5987.76\n",
      "Action: BUY, Grid Index: 14, Grid Price: 64285.71, Amount: 171.43, Current Price: 64025.59, Cash Balance: 5816.33\n",
      "Action: BUY, Grid Index: 13, Grid Price: 63265.31, Amount: 168.71, Current Price: 63028.06, Cash Balance: 5647.62\n",
      "Action: BUY, Grid Index: 12, Grid Price: 62244.90, Amount: 165.99, Current Price: 61851.48, Cash Balance: 5481.63\n",
      "Action: BUY, Grid Index: 9, Grid Price: 59183.67, Amount: 157.82, Current Price: 58799.21, Cash Balance: 5323.81\n",
      "Action: BUY, Grid Index: 10, Grid Price: 60204.08, Amount: 160.54, Current Price: 58799.21, Cash Balance: 5163.27\n",
      "Action: BUY, Grid Index: 11, Grid Price: 61224.49, Amount: 163.27, Current Price: 58799.21, Cash Balance: 5000.00\n",
      "Action: SELL, Grid Index: 9, Grid Price: 59183.67, Amount: 157.82, Current Price: 60425.74, Cash Balance: 5157.82\n",
      "Action: SELL, Grid Index: 10, Grid Price: 60204.08, Amount: 160.54, Current Price: 60425.74, Cash Balance: 5318.37\n",
      "Action: BUY, Grid Index: 9, Grid Price: 59183.67, Amount: 157.82, Current Price: 59177.70, Cash Balance: 5160.54\n",
      "Action: BUY, Grid Index: 10, Grid Price: 60204.08, Amount: 160.54, Current Price: 59177.70, Cash Balance: 5000.00\n",
      "Action: SELL, Grid Index: 9, Grid Price: 59183.67, Amount: 157.82, Current Price: 59346.66, Cash Balance: 5157.82\n",
      "Action: BUY, Grid Index: 9, Grid Price: 59183.67, Amount: 157.82, Current Price: 59040.66, Cash Balance: 5000.00\n",
      "Action: SELL, Grid Index: 9, Grid Price: 59183.67, Amount: 157.82, Current Price: 59217.47, Cash Balance: 5157.82\n",
      "Action: BUY, Grid Index: 9, Grid Price: 59183.67, Amount: 157.82, Current Price: 58191.24, Cash Balance: 5000.00\n",
      "Action: BUY, Grid Index: 8, Grid Price: 58163.27, Amount: 155.10, Current Price: 57775.97, Cash Balance: 4844.90\n",
      "Action: SELL, Grid Index: 8, Grid Price: 58163.27, Amount: 310.20, Current Price: 58512.15, Cash Balance: 5155.10\n",
      "Action: BUY, Grid Index: 7, Grid Price: 57142.86, Amount: 152.38, Current Price: 56476.14, Cash Balance: 5002.72\n",
      "Action: BUY, Grid Index: 8, Grid Price: 58163.27, Amount: 155.10, Current Price: 56476.14, Cash Balance: 4847.62\n",
      "Action: SELL, Grid Index: 7, Grid Price: 57142.86, Amount: 304.76, Current Price: 58235.75, Cash Balance: 5152.38\n",
      "Action: SELL, Grid Index: 8, Grid Price: 58163.27, Amount: 155.10, Current Price: 58235.75, Cash Balance: 5307.48\n",
      "Action: BUY, Grid Index: 7, Grid Price: 57142.86, Amount: 152.38, Current Price: 56860.12, Cash Balance: 5155.10\n",
      "Action: BUY, Grid Index: 8, Grid Price: 58163.27, Amount: 155.10, Current Price: 56860.12, Cash Balance: 5000.00\n",
      "Action: BUY, Grid Index: 6, Grid Price: 56122.45, Amount: 149.66, Current Price: 55958.75, Cash Balance: 4850.34\n",
      "Action: BUY, Grid Index: 4, Grid Price: 54081.63, Amount: 144.22, Current Price: 53944.65, Cash Balance: 4706.12\n",
      "Action: BUY, Grid Index: 5, Grid Price: 55102.04, Amount: 146.94, Current Price: 53944.65, Cash Balance: 4559.18\n",
      "Action: SELL, Grid Index: 4, Grid Price: 54081.63, Amount: 288.44, Current Price: 54544.75, Cash Balance: 4847.62\n",
      "Action: SELL, Grid Index: 5, Grid Price: 55102.04, Amount: 293.88, Current Price: 55524.59, Cash Balance: 5141.50\n",
      "Action: SELL, Grid Index: 6, Grid Price: 56122.45, Amount: 299.32, Current Price: 56685.84, Cash Balance: 5440.82\n",
      "Action: SELL, Grid Index: 7, Grid Price: 57142.86, Amount: 152.38, Current Price: 57776.20, Cash Balance: 5593.20\n",
      "Action: BUY, Grid Index: 7, Grid Price: 57142.86, Amount: 152.38, Current Price: 56517.35, Cash Balance: 5440.82\n",
      "Action: SELL, Grid Index: 7, Grid Price: 57142.86, Amount: 152.38, Current Price: 57487.76, Cash Balance: 5593.20\n",
      "Action: SELL, Grid Index: 8, Grid Price: 58163.27, Amount: 155.10, Current Price: 59688.20, Cash Balance: 5748.30\n",
      "Action: SELL, Grid Index: 9, Grid Price: 59183.67, Amount: 157.82, Current Price: 59688.20, Cash Balance: 5906.12\n",
      "Action: SELL, Grid Index: 10, Grid Price: 60204.08, Amount: 160.54, Current Price: 60278.61, Cash Balance: 6066.67\n",
      "Action: BUY, Grid Index: 9, Grid Price: 59183.67, Amount: 157.82, Current Price: 58676.66, Cash Balance: 5908.84\n",
      "Action: BUY, Grid Index: 10, Grid Price: 60204.08, Amount: 160.54, Current Price: 58676.66, Cash Balance: 5748.30\n",
      "Action: BUY, Grid Index: 8, Grid Price: 58163.27, Amount: 155.10, Current Price: 57832.28, Cash Balance: 5593.20\n",
      "Action: SELL, Grid Index: 8, Grid Price: 58163.27, Amount: 155.10, Current Price: 59249.54, Cash Balance: 5748.30\n",
      "Action: SELL, Grid Index: 9, Grid Price: 59183.67, Amount: 157.82, Current Price: 59249.54, Cash Balance: 5906.12\n",
      "Action: SELL, Grid Index: 10, Grid Price: 60204.08, Amount: 160.54, Current Price: 60278.82, Cash Balance: 6066.67\n",
      "Action: BUY, Grid Index: 10, Grid Price: 60204.08, Amount: 160.54, Current Price: 59823.60, Cash Balance: 5906.12\n",
      "Action: SELL, Grid Index: 10, Grid Price: 60204.08, Amount: 160.54, Current Price: 62048.51, Cash Balance: 6066.67\n",
      "Action: SELL, Grid Index: 11, Grid Price: 61224.49, Amount: 163.27, Current Price: 62048.51, Cash Balance: 6229.93\n",
      "Action: SELL, Grid Index: 12, Grid Price: 62244.90, Amount: 165.99, Current Price: 62870.79, Cash Balance: 6395.92\n",
      "Action: SELL, Grid Index: 13, Grid Price: 63265.31, Amount: 168.71, Current Price: 63319.29, Cash Balance: 6564.63\n",
      "Action: BUY, Grid Index: 13, Grid Price: 63265.31, Amount: 168.71, Current Price: 62916.30, Cash Balance: 6395.92\n",
      "Action: SELL, Grid Index: 13, Grid Price: 63265.31, Amount: 168.71, Current Price: 63404.01, Cash Balance: 6564.63\n",
      "Action: BUY, Grid Index: 13, Grid Price: 63265.31, Amount: 168.71, Current Price: 63217.08, Cash Balance: 6395.92\n",
      "Action: SELL, Grid Index: 13, Grid Price: 63265.31, Amount: 168.71, Current Price: 64364.09, Cash Balance: 6564.63\n",
      "Action: SELL, Grid Index: 14, Grid Price: 64285.71, Amount: 171.43, Current Price: 64364.09, Cash Balance: 6736.05\n",
      "Action: BUY, Grid Index: 14, Grid Price: 64285.71, Amount: 171.43, Current Price: 63605.09, Cash Balance: 6564.63\n",
      "Action: BUY, Grid Index: 13, Grid Price: 63265.31, Amount: 168.71, Current Price: 62983.59, Cash Balance: 6395.92\n",
      "Action: SELL, Grid Index: 13, Grid Price: 63265.31, Amount: 168.71, Current Price: 65330.09, Cash Balance: 6564.63\n",
      "Action: SELL, Grid Index: 14, Grid Price: 64285.71, Amount: 171.43, Current Price: 65330.09, Cash Balance: 6736.05\n",
      "Action: SELL, Grid Index: 15, Grid Price: 65306.12, Amount: 174.15, Current Price: 65330.09, Cash Balance: 6910.20\n",
      "Action: BUY, Grid Index: 15, Grid Price: 65306.12, Amount: 174.15, Current Price: 65262.98, Cash Balance: 6736.05\n",
      "Action: SELL, Grid Index: 15, Grid Price: 65306.12, Amount: 174.15, Current Price: 65818.10, Cash Balance: 6910.20\n",
      "Action: BUY, Grid Index: 15, Grid Price: 65306.12, Amount: 174.15, Current Price: 64484.38, Cash Balance: 6736.05\n",
      "Action: BUY, Grid Index: 14, Grid Price: 64285.71, Amount: 171.43, Current Price: 63670.47, Cash Balance: 6564.63\n",
      "Action: BUY, Grid Index: 12, Grid Price: 62244.90, Amount: 165.99, Current Price: 61820.32, Cash Balance: 6398.64\n",
      "Action: BUY, Grid Index: 13, Grid Price: 63265.31, Amount: 168.71, Current Price: 61820.32, Cash Balance: 6229.93\n",
      "Action: BUY, Grid Index: 11, Grid Price: 61224.49, Amount: 163.27, Current Price: 61178.45, Cash Balance: 6066.67\n",
      "Action: SELL, Grid Index: 11, Grid Price: 61224.49, Amount: 163.27, Current Price: 61329.63, Cash Balance: 6229.93\n",
      "Action: SELL, Grid Index: 12, Grid Price: 62244.90, Amount: 165.99, Current Price: 63880.06, Cash Balance: 6395.92\n",
      "Action: SELL, Grid Index: 13, Grid Price: 63265.31, Amount: 168.71, Current Price: 63880.06, Cash Balance: 6564.63\n",
      "Action: BUY, Grid Index: 13, Grid Price: 63265.31, Amount: 168.71, Current Price: 62434.54, Cash Balance: 6395.92\n",
      "Action: BUY, Grid Index: 12, Grid Price: 62244.90, Amount: 165.99, Current Price: 62136.71, Cash Balance: 6229.93\n",
      "Action: BUY, Grid Index: 11, Grid Price: 61224.49, Amount: 163.27, Current Price: 60871.28, Cash Balance: 6066.67\n",
      "Action: SELL, Grid Index: 11, Grid Price: 61224.49, Amount: 163.27, Current Price: 62480.88, Cash Balance: 6229.93\n",
      "Action: SELL, Grid Index: 12, Grid Price: 62244.90, Amount: 165.99, Current Price: 62480.88, Cash Balance: 6395.92\n",
      "Action: SELL, Grid Index: 13, Grid Price: 63265.31, Amount: 168.71, Current Price: 64540.96, Cash Balance: 6564.63\n",
      "Action: SELL, Grid Index: 14, Grid Price: 64285.71, Amount: 171.43, Current Price: 64540.96, Cash Balance: 6736.05\n",
      "Action: SELL, Grid Index: 15, Grid Price: 65306.12, Amount: 174.15, Current Price: 66041.94, Cash Balance: 6910.20\n",
      "Action: SELL, Grid Index: 16, Grid Price: 66326.53, Amount: 176.87, Current Price: 67139.06, Cash Balance: 7087.07\n",
      "Action: SELL, Grid Index: 17, Grid Price: 67346.94, Amount: 179.59, Current Price: 67822.60, Cash Balance: 7266.67\n",
      "Action: BUY, Grid Index: 17, Grid Price: 67346.94, Amount: 179.59, Current Price: 67091.97, Cash Balance: 7087.07\n",
      "Action: SELL, Grid Index: 17, Grid Price: 67346.94, Amount: 179.59, Current Price: 67639.57, Cash Balance: 7266.67\n",
      "Action: SELL, Grid Index: 18, Grid Price: 68367.35, Amount: 182.31, Current Price: 68547.13, Cash Balance: 7448.98\n",
      "Action: BUY, Grid Index: 18, Grid Price: 68367.35, Amount: 182.31, Current Price: 68361.54, Cash Balance: 7266.67\n",
      "Action: SELL, Grid Index: 18, Grid Price: 68367.35, Amount: 182.31, Current Price: 68464.26, Cash Balance: 7448.98\n"
     ]
    }
   ],
   "source": [
    "from src.GridStrategy import GridStrategy\n",
    "\n",
    "strategy = GridStrategy(grid_config, prices)\n",
    "print(\"网格价格:\", strategy.grid_prices)\n",
    "print(\"中位数价格:\", strategy.grid_median_price)\n",
    "print(\"网格持仓股票数量:\", strategy.grid_stocks)\n",
    "print(\"当前股票数量:\", strategy.hold_stocks)\n",
    "print(\"平均持仓成本:\", strategy.average_hold_price)\n",
    "print(\"爆仓线:\", strategy.break_line)\n",
    "strategy.run_strategy()\n",
    "# strategy.plot_results()\n",
    "\n",
    "# 起始条件 股票价格 激活条件（默认立即执行）\n",
    "# 终止条件（默认超出区间）价格结束/时间结束\n",
    "\n",
    "# TODO Amount: 157.82 Amount -> value\n",
    "# 数据统计\n",
    "\n",
    "\n",
    "# 网格收益：每完成一次卖出累积的收益=（高网格价格-低网格价格）/低网格价格）*网格资产量-手续费\n",
    "\n",
    "\n"
   ]
  },
  {
   "cell_type": "markdown",
   "metadata": {},
   "source": [
    "### 4.可视化模型"
   ]
  },
  {
   "cell_type": "code",
   "execution_count": 5,
   "metadata": {},
   "outputs": [
    {
     "data": {
      "text/plain": [
       "0.0026666666666666666"
      ]
     },
     "execution_count": 5,
     "metadata": {},
     "output_type": "execute_result"
    }
   ],
   "source": [
    "strategy.grid_stock_amount"
   ]
  }
 ],
 "metadata": {
  "kernelspec": {
   "display_name": "llm",
   "language": "python",
   "name": "python3"
  },
  "language_info": {
   "codemirror_mode": {
    "name": "ipython",
    "version": 3
   },
   "file_extension": ".py",
   "mimetype": "text/x-python",
   "name": "python",
   "nbconvert_exporter": "python",
   "pygments_lexer": "ipython3",
   "version": "3.11.10"
  }
 },
 "nbformat": 4,
 "nbformat_minor": 2
}
